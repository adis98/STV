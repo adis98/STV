{
 "cells": [
  {
   "cell_type": "code",
   "execution_count": 337,
   "metadata": {
    "execution": {
     "iopub.execute_input": "2022-09-10T21:13:25.84272Z",
     "iopub.status.busy": "2022-09-10T21:13:25.84207Z",
     "iopub.status.idle": "2022-09-10T21:13:25.847159Z",
     "shell.execute_reply": "2022-09-10T21:13:25.846186Z",
     "shell.execute_reply.started": "2022-09-10T21:13:25.842672Z"
    }
   },
   "outputs": [],
   "source": [
    "#Importing libraries\n",
    "\n",
    "import pandas as pd\n",
    "import numpy as np\n",
    "import matplotlib.pyplot as plt\n",
    "import seaborn as sns\n",
    "import datetime\n",
    "import numpy as np\n",
    "from sklearn.tree import DecisionTreeRegressor, plot_tree\n",
    "from sklearn.model_selection import train_test_split\n",
    "from sklearn.metrics import r2_score, mean_squared_error\n",
    "from sklearn.linear_model import LinearRegression\n",
    "from sklearn.ensemble import GradientBoostingRegressor"
   ]
  },
  {
   "cell_type": "code",
   "execution_count": 338,
   "metadata": {
    "execution": {
     "iopub.execute_input": "2022-09-10T21:13:25.850245Z",
     "iopub.status.busy": "2022-09-10T21:13:25.849738Z",
     "iopub.status.idle": "2022-09-10T21:13:25.891772Z",
     "shell.execute_reply": "2022-09-10T21:13:25.891074Z",
     "shell.execute_reply.started": "2022-09-10T21:13:25.850209Z"
    }
   },
   "outputs": [],
   "source": [
    "#read the dataset\n",
    "\n",
    "ar = pd.read_csv('AirQualityUCI/AirQualityUCI.csv', sep=';', decimal=',')\n",
    "# ar.head()"
   ]
  },
  {
   "cell_type": "code",
   "execution_count": 339,
   "metadata": {
    "execution": {
     "iopub.execute_input": "2022-09-10T21:13:26.201564Z",
     "iopub.status.busy": "2022-09-10T21:13:26.201069Z",
     "iopub.status.idle": "2022-09-10T21:13:26.207446Z",
     "shell.execute_reply": "2022-09-10T21:13:26.20666Z",
     "shell.execute_reply.started": "2022-09-10T21:13:26.201531Z"
    }
   },
   "outputs": [],
   "source": [
    "#Dropping CO(GT) and Unnamed columns\n",
    "ar.drop(['Unnamed: 15','Unnamed: 16'],axis = 1,inplace = True)"
   ]
  },
  {
   "cell_type": "code",
   "execution_count": 340,
   "metadata": {
    "execution": {
     "iopub.execute_input": "2022-09-10T21:13:26.2127Z",
     "iopub.status.busy": "2022-09-10T21:13:26.21248Z",
     "iopub.status.idle": "2022-09-10T21:13:26.31114Z",
     "shell.execute_reply": "2022-09-10T21:13:26.31047Z",
     "shell.execute_reply.started": "2022-09-10T21:13:26.212666Z"
    }
   },
   "outputs": [],
   "source": [
    "#Formatting some object columns from strings to floats\n",
    "\n",
    "ar.replace(to_replace=',',value='.',regex=True,inplace=True) \n",
    "\n",
    "for i in 'C6H6(GT) T RH AH'.split():\n",
    "    ar[i] = pd.to_numeric(ar[i],errors='coerce') "
   ]
  },
  {
   "cell_type": "code",
   "execution_count": 341,
   "metadata": {
    "execution": {
     "iopub.execute_input": "2022-09-10T21:13:26.314382Z",
     "iopub.status.busy": "2022-09-10T21:13:26.314185Z",
     "iopub.status.idle": "2022-09-10T21:13:26.32888Z",
     "shell.execute_reply": "2022-09-10T21:13:26.327709Z",
     "shell.execute_reply.started": "2022-09-10T21:13:26.314354Z"
    }
   },
   "outputs": [],
   "source": [
    "#Replacing null data from -200 to NaN for posterior treatment\n",
    "\n",
    "ar.replace(to_replace=-200,value=np.nan,inplace=True)\n",
    "\n",
    "# ar.info()"
   ]
  },
  {
   "cell_type": "code",
   "execution_count": 342,
   "metadata": {
    "execution": {
     "iopub.execute_input": "2022-09-10T21:13:26.330238Z",
     "iopub.status.busy": "2022-09-10T21:13:26.330008Z",
     "iopub.status.idle": "2022-09-10T21:13:26.361848Z",
     "shell.execute_reply": "2022-09-10T21:13:26.36113Z",
     "shell.execute_reply.started": "2022-09-10T21:13:26.330208Z"
    }
   },
   "outputs": [],
   "source": [
    "#Formatting Date and Time to datetime type\n",
    "\n",
    "ar['Date'] = pd.to_datetime(ar['Date'],dayfirst=True) \n",
    "\n",
    "ar['Time'] = pd.to_datetime(ar['Time'],format= '%H.%M.%S' ).dt.time\n",
    "\n",
    "# ar.head()"
   ]
  },
  {
   "cell_type": "code",
   "execution_count": 343,
   "metadata": {
    "execution": {
     "iopub.execute_input": "2022-09-10T21:13:26.363958Z",
     "iopub.status.busy": "2022-09-10T21:13:26.363056Z",
     "iopub.status.idle": "2022-09-10T21:13:26.369544Z",
     "shell.execute_reply": "2022-09-10T21:13:26.368828Z",
     "shell.execute_reply.started": "2022-09-10T21:13:26.363919Z"
    }
   },
   "outputs": [],
   "source": [
    "# NMHC_ratio = ar['NMHC(GT)'].isna().sum()/len(ar['NMHC(GT)'])\n",
    "\n",
    "# print('The NMHC(GT) sensor has {:.2f}% of missing data.'.format(NMHC_ratio*100))"
   ]
  },
  {
   "cell_type": "code",
   "execution_count": 344,
   "metadata": {
    "execution": {
     "iopub.execute_input": "2022-09-10T21:13:26.372679Z",
     "iopub.status.busy": "2022-09-10T21:13:26.371785Z",
     "iopub.status.idle": "2022-09-10T21:13:26.388836Z",
     "shell.execute_reply": "2022-09-10T21:13:26.38794Z",
     "shell.execute_reply.started": "2022-09-10T21:13:26.372634Z"
    }
   },
   "outputs": [],
   "source": [
    "#Removing NMHC(GT) sensor due to amount of null values\n",
    "\n",
    "ar.drop('NMHC(GT)', axis=1, inplace=True) \n"
   ]
  },
  {
   "cell_type": "code",
   "execution_count": 345,
   "metadata": {
    "execution": {
     "iopub.execute_input": "2022-09-10T21:13:27.736153Z",
     "iopub.status.busy": "2022-09-10T21:13:27.735406Z",
     "iopub.status.idle": "2022-09-10T21:13:27.74419Z",
     "shell.execute_reply": "2022-09-10T21:13:27.743511Z",
     "shell.execute_reply.started": "2022-09-10T21:13:27.736115Z"
    }
   },
   "outputs": [],
   "source": [
    "ar1=ar.dropna()"
   ]
  },
  {
   "cell_type": "code",
   "execution_count": 346,
   "metadata": {
    "execution": {
     "iopub.execute_input": "2022-09-10T21:13:28.07835Z",
     "iopub.status.busy": "2022-09-10T21:13:28.07808Z",
     "iopub.status.idle": "2022-09-10T21:13:28.092888Z",
     "shell.execute_reply": "2022-09-10T21:13:28.092144Z",
     "shell.execute_reply.started": "2022-09-10T21:13:28.078309Z"
    }
   },
   "outputs": [
    {
     "name": "stderr",
     "output_type": "stream",
     "text": [
      "C:\\Users\\adity\\AppData\\Local\\Temp\\ipykernel_31884\\4073223878.py:2: SettingWithCopyWarning: \n",
      "A value is trying to be set on a copy of a slice from a DataFrame\n",
      "\n",
      "See the caveats in the documentation: https://pandas.pydata.org/pandas-docs/stable/user_guide/indexing.html#returning-a-view-versus-a-copy\n",
      "  ar1.drop_duplicates(inplace= True)\n"
     ]
    }
   ],
   "source": [
    "# Eliminating all duplicated rows with drop_duplicates\n",
    "ar1.drop_duplicates(inplace= True)"
   ]
  },
  {
   "cell_type": "code",
   "execution_count": 347,
   "metadata": {
    "execution": {
     "iopub.execute_input": "2022-09-10T21:13:28.094957Z",
     "iopub.status.busy": "2022-09-10T21:13:28.094579Z",
     "iopub.status.idle": "2022-09-10T21:13:28.106262Z",
     "shell.execute_reply": "2022-09-10T21:13:28.10557Z",
     "shell.execute_reply.started": "2022-09-10T21:13:28.09492Z"
    }
   },
   "outputs": [],
   "source": [
    "# To check whether there duplicated values or not using the function Assert \n",
    "assert ar1.duplicated().sum() == 0"
   ]
  },
  {
   "cell_type": "code",
   "execution_count": 348,
   "metadata": {
    "execution": {
     "iopub.execute_input": "2022-09-10T21:13:28.108255Z",
     "iopub.status.busy": "2022-09-10T21:13:28.107841Z",
     "iopub.status.idle": "2022-09-10T21:13:28.120822Z",
     "shell.execute_reply": "2022-09-10T21:13:28.120024Z",
     "shell.execute_reply.started": "2022-09-10T21:13:28.108218Z"
    }
   },
   "outputs": [
    {
     "data": {
      "text/plain": [
       "Date              341\n",
       "Time               24\n",
       "CO(GT)             94\n",
       "PT08.S1(CO)      1016\n",
       "C6H6(GT)          392\n",
       "PT08.S2(NMHC)    1189\n",
       "NOx(GT)           896\n",
       "PT08.S3(NOx)     1129\n",
       "NO2(GT)           274\n",
       "PT08.S4(NO2)     1543\n",
       "PT08.S5(O3)      1693\n",
       "T                 428\n",
       "RH                742\n",
       "AH               5460\n",
       "dtype: int64"
      ]
     },
     "execution_count": 348,
     "metadata": {},
     "output_type": "execute_result"
    }
   ],
   "source": [
    "# To check wether there unique values in Dataset\n",
    "ar1.apply(lambda x: len(x.unique()))"
   ]
  },
  {
   "cell_type": "code",
   "execution_count": 349,
   "metadata": {
    "execution": {
     "iopub.execute_input": "2022-09-10T21:13:33.050586Z",
     "iopub.status.busy": "2022-09-10T21:13:33.049968Z",
     "iopub.status.idle": "2022-09-10T21:13:33.059209Z",
     "shell.execute_reply": "2022-09-10T21:13:33.058463Z",
     "shell.execute_reply.started": "2022-09-10T21:13:33.050551Z"
    }
   },
   "outputs": [],
   "source": [
    "#Eliminating rows with NaN values \n",
    "\n",
    "ar1_filt = ar1.dropna(how='any', axis=0)\n",
    "ar1_filt.reset_index(drop=True,inplace=True)\n"
   ]
  },
  {
   "cell_type": "code",
   "execution_count": 356,
   "metadata": {},
   "outputs": [
    {
     "data": {
      "image/png": "[encoded data removed]",
      "text/plain": [
       "<Figure size 432x288 with 1 Axes>"
      ]
     },
     "metadata": {
      "needs_background": "light"
     },
     "output_type": "display_data"
    }
   ],
   "source": [
    "#Identify the train test ratio for data until September\n",
    "\n",
    "X = ar1_filt.sort_values('Time')[['Time','PT08.S1(CO)','CO(GT)']]\n",
    "\n",
    "threshold_time = datetime.time(5,0,0)\n",
    "\n",
    "\n",
    "# X_train = X['PT08.S1(CO)'].iloc[X['Time']<threshold_time]\n",
    "X_train = X.loc[X['Time']<threshold_time][['Time','PT08.S1(CO)']]\n",
    "\n",
    "X_test = X.loc[X['Time']>=threshold_time][['Time','PT08.S1(CO)']]\n",
    "\n",
    "y_train = X.loc[X['Time']<threshold_time]['CO(GT)']\n",
    "y_test = X.loc[X['Time']>=threshold_time]['CO(GT)']\n",
    "\n",
    "# X_train.head()\n",
    "# y_train.head()\n",
    "DTModel = GradientBoostingRegressor(random_state=0)\n",
    "LRModel = LinearRegression()\n",
    "DTModel.fit(X_train[['PT08.S1(CO)']], y_train)\n",
    "\n",
    "LRModel.fit(X_train[['PT08.S1(CO)']], y_train)\n",
    "\n",
    "y_pred_train_dt = DTModel.predict(X_train[['PT08.S1(CO)']])\n",
    "y_pred_test_dt = DTModel.predict(X_test[['PT08.S1(CO)']])\n",
    "\n",
    "y_pred_train_lr = LRModel.predict(X_train[['PT08.S1(CO)']])\n",
    "y_pred_test_lr = LRModel.predict(X_test[['PT08.S1(CO)']])\n",
    "\n",
    "X['DT_prediction'] = np.append(y_pred_train_dt, y_pred_test_dt)\n",
    "X['LR_prediction'] = np.append(y_pred_train_lr, y_pred_test_lr)\n",
    "\n",
    "new_arr = X.groupby('Time').mean()\n",
    "new_arr = new_arr.drop(columns=['PT08.S1(CO)'])\n",
    "new_arr.plot()\n",
    "# plot_tree(DTModel)\n",
    "plt.show()\n",
    "# print(r2_score(y_train, y_pred_train_dt), 'r2 score training data dt')\n",
    "\n",
    "\n",
    "# print(r2_score(y_test, y_pred_test_dt), 'r2 score test data dt')\n",
    "\n",
    "\n",
    "# print(r2_score(y_train, y_pred_train_lr), 'r2 score training data lr')\n",
    "\n",
    "# print(r2_score(y_test, y_pred_test_lr), 'r2 score test data lr')\n",
    "\n",
    "\n",
    "# plt.plot(X_train[['Time']], y_train)\n",
    "# plt.plot(X_train[['Time']], y_pred)\n",
    "# plt.show()\n",
    "\n",
    "\n"
   ]
  },
  {
   "cell_type": "code",
   "execution_count": null,
   "metadata": {},
   "outputs": [],
   "source": []
  },
  {
   "cell_type": "code",
   "execution_count": null,
   "metadata": {},
   "outputs": [],
   "source": []
  },
  {
   "cell_type": "code",
   "execution_count": null,
   "metadata": {},
   "outputs": [],
   "source": []
  }
 ],
 "metadata": {
  "kernelspec": {
   "display_name": "Python 3 (ipykernel)",
   "language": "python",
   "name": "python3"
  },
  "language_info": {
   "codemirror_mode": {
    "name": "ipython",
    "version": 3
   },
   "file_extension": ".py",
   "mimetype": "text/x-python",
   "name": "python",
   "nbconvert_exporter": "python",
   "pygments_lexer": "ipython3",
   "version": "3.9.7"
  }
 },
 "nbformat": 4,
 "nbformat_minor": 4
}
